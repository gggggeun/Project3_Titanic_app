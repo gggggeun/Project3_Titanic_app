{
 "cells": [
  {
   "cell_type": "code",
   "execution_count": 1,
   "source": [
    "import pandas as pd\r\n",
    "import numpy as np\r\n",
    "from sklearn.preprocessing import LabelEncoder\r\n",
    "from sklearn.model_selection import train_test_split\r\n",
    "from sklearn.ensemble import RandomForestClassifier\r\n",
    "from sklearn.metrics import confusion_matrix\r\n",
    "from sklearn.metrics import f1_score"
   ],
   "outputs": [],
   "metadata": {
    "collapsed": true
   }
  },
  {
   "cell_type": "code",
   "execution_count": 4,
   "source": [
    "df = pd.read_csv(\"../data/titanic.csv\")\r\n",
    "predictors = ['Pclass','Sex', 'Age', 'SibSp', 'Parch', 'Fare', 'Embarked']\r\n",
    "label = 'Survived'\r\n",
    "cabin_fillna = 'NA'\r\n",
    "df.Cabin = df.Cabin.fillna(cabin_fillna)\r\n",
    "\r\n",
    "df_train, df_test, y_train, y_test = train_test_split(df[predictors], df[label], test_size=0.20, random_state=42)"
   ],
   "outputs": [],
   "metadata": {}
  },
  {
   "cell_type": "code",
   "execution_count": 6,
   "source": [
    "age_fillna = df_train.Age.mean()\n",
    "embarked_fillna = df_train.Embarked.value_counts().index[0]\n",
    "\n",
    "\n",
    "df_train.Age = df_train.Age.fillna(df.Age.mean())\n",
    "df_train.Embarked = df_train.Embarked.fillna(embarked_fillna)\n",
    "\n",
    "df_test.Age = df_test.Age.fillna(df.Age.mean())\n",
    "df_test.Embarked = df_test.Embarked.fillna(embarked_fillna)"
   ],
   "outputs": [],
   "metadata": {
    "collapsed": true
   }
  },
  {
   "cell_type": "code",
   "execution_count": 7,
   "source": [
    "le = dict()\n",
    "for column in df_train.columns:\n",
    "    if df_train[column].dtype == np.object:\n",
    "        le[column] = LabelEncoder()\n",
    "        df_train[column] = le[column].fit_transform(df_train[column])\n",
    "        \n",
    "for column in df_test.columns:\n",
    "    if df_test[column].dtype == np.object:\n",
    "        df_test[column] = le[column].transform(df_test[column])"
   ],
   "outputs": [],
   "metadata": {
    "collapsed": true
   }
  },
  {
   "cell_type": "code",
   "execution_count": 10,
   "source": [
    "for col in df_train.columns:\n",
    "    print(col, df_train[col].unique())"
   ],
   "outputs": [
    {
     "output_type": "stream",
     "name": "stdout",
     "text": [
      "Pclass [1 2 3]\n",
      "Sex [1 0]\n",
      "Age [ 45.5         23.          32.          26.           6.          24.          45.\n",
      "  29.          29.69911765  42.          36.          33.          17.          50.\n",
      "  35.          38.          34.          11.          61.          30.           7.\n",
      "  63.          20.          27.           2.          25.          51.          18.\n",
      "  22.           0.92        21.          62.          57.          19.\n",
      "  34.5         28.          52.          36.5         40.          65.           4.\n",
      "   1.          43.          31.          39.          49.           3.\n",
      "  40.5         54.          16.          47.          60.          44.           8.\n",
      "  15.          41.           9.          37.          46.          56.          59.\n",
      "  58.          28.5          0.75        55.          14.          12.\n",
      "  70.5         70.          48.          80.          55.5         14.5\n",
      "  10.          53.          32.5         74.          64.           5.\n",
      "  24.5          0.42         0.67        13.           0.83      ]\n",
      "SibSp [0 1 4 3 2 8 5]\n",
      "Parch [0 2 1 6 4 3 5]\n",
      "Fare [  28.5      13.        7.925     7.8542   31.275   247.5208   26.55\n",
      "   27.7208    7.8958   35.5      24.15     12.275     7.0542    9.5      26.\n",
      "   90.      227.525    57.        6.2375    8.6625   26.25      9.5875\n",
      "    7.2292   22.3583    9.4833  120.       14.4583    8.05    211.5       7.25\n",
      "    7.725    25.4667   21.075    30.       61.3792   20.2125   30.5       7.05\n",
      "   14.5       7.5208  151.55     21.      262.375     7.75      7.775    80.\n",
      "    9.8417   12.35      0.        7.225     6.4375   12.475   133.65\n",
      "    6.975    77.9583   10.5     106.425    81.8583   11.1333   27.75\n",
      "  153.4625    8.3      15.05    110.8833   15.0458   39.6875    7.8792\n",
      "   23.45      7.65     15.7417   15.2458   51.8625   15.5      41.5792\n",
      "   14.4542   10.5167   20.525    89.1042   36.75     55.4417   50.\n",
      "   13.8625   16.7      13.5      35.       55.9       7.8      34.375    18.\n",
      "   47.1      19.5      20.25     31.3875    8.1125    7.8292   59.4      79.2\n",
      "   56.4958   57.9792   46.9      52.5542   29.125     9.825    61.175\n",
      "   15.1      66.6      83.1583   37.0042   16.1      27.9     211.3375\n",
      "    7.7958   40.125    28.7125   19.2583   49.5042   65.       52.       86.5\n",
      "   16.       53.1       6.8583   19.9667   13.7917    7.7333  113.275\n",
      "   69.55     30.0708    8.0292   55.       39.6      24.       20.575\n",
      "   17.4      22.025    29.7       6.95     25.5875  263.       11.5\n",
      "   11.2417   18.7875   13.4167   73.5     164.8667   79.65     71.       69.3\n",
      "  108.9      14.4       6.4958   12.2875  146.5208   13.8583   10.1708\n",
      "   77.2875    7.7417   17.8      15.85     12.65     26.2875   18.75     42.4\n",
      "    7.3125   23.        7.1417  512.3292   23.25      7.55     33.\n",
      "   21.6792   25.9292   34.0208    9.35     78.85     39.        8.6542\n",
      "   15.       51.4792   12.525    15.9     135.6333    6.75      8.4042\n",
      "    8.85      7.8875    8.1375   78.2667    5.       14.        8.5167\n",
      "    7.125    76.7292   33.5       7.4958   27.        8.6833    7.7375\n",
      "    7.6292   83.475     4.0125    9.2167   50.4958   93.5       9.475\n",
      "  134.5      10.4625   15.75     12.       71.2833    9.       82.1708\n",
      "   22.525    75.25      6.45     91.0792    9.8375    8.3625   31.\n",
      "   14.1083]\n",
      "Embarked [2 0 1]\n"
     ]
    }
   ],
   "metadata": {}
  },
  {
   "cell_type": "code",
   "execution_count": 5,
   "source": [
    "model = RandomForestClassifier(n_estimators=25, random_state=42)\n",
    "model.fit(X=df_train, y=y_train)\n",
    "# y_pred = model.predict(X=df_test)\n",
    "# print(confusion_matrix(y_test, y_pred))\n",
    "# print(f1_score(y_test, y_pred))\n",
    "# from sklearn.externals import joblib\n",
    "# joblib.dump(model, './model/model.pkl') "
   ],
   "outputs": [
    {
     "output_type": "execute_result",
     "data": {
      "text/plain": [
       "['./model/model.pkl']"
      ]
     },
     "metadata": {},
     "execution_count": 5
    }
   ],
   "metadata": {}
  },
  {
   "cell_type": "code",
   "execution_count": 9,
   "source": [
    "df_test.head()"
   ],
   "outputs": [
    {
     "output_type": "execute_result",
     "data": {
      "text/plain": [
       "     Pclass  Sex        Age  SibSp  Parch     Fare  Embarked\n",
       "709       3    1  29.699118      1      1  15.2458         0\n",
       "439       2    1  31.000000      0      0  10.5000         2\n",
       "840       3    1  20.000000      0      0   7.9250         2\n",
       "720       2    0   6.000000      0      1  33.0000         2\n",
       "39        3    0  14.000000      1      0  11.2417         0"
      ],
      "text/html": [
       "<div>\n",
       "<style scoped>\n",
       "    .dataframe tbody tr th:only-of-type {\n",
       "        vertical-align: middle;\n",
       "    }\n",
       "\n",
       "    .dataframe tbody tr th {\n",
       "        vertical-align: top;\n",
       "    }\n",
       "\n",
       "    .dataframe thead th {\n",
       "        text-align: right;\n",
       "    }\n",
       "</style>\n",
       "<table border=\"1\" class=\"dataframe\">\n",
       "  <thead>\n",
       "    <tr style=\"text-align: right;\">\n",
       "      <th></th>\n",
       "      <th>Pclass</th>\n",
       "      <th>Sex</th>\n",
       "      <th>Age</th>\n",
       "      <th>SibSp</th>\n",
       "      <th>Parch</th>\n",
       "      <th>Fare</th>\n",
       "      <th>Embarked</th>\n",
       "    </tr>\n",
       "  </thead>\n",
       "  <tbody>\n",
       "    <tr>\n",
       "      <th>709</th>\n",
       "      <td>3</td>\n",
       "      <td>1</td>\n",
       "      <td>29.699118</td>\n",
       "      <td>1</td>\n",
       "      <td>1</td>\n",
       "      <td>15.2458</td>\n",
       "      <td>0</td>\n",
       "    </tr>\n",
       "    <tr>\n",
       "      <th>439</th>\n",
       "      <td>2</td>\n",
       "      <td>1</td>\n",
       "      <td>31.000000</td>\n",
       "      <td>0</td>\n",
       "      <td>0</td>\n",
       "      <td>10.5000</td>\n",
       "      <td>2</td>\n",
       "    </tr>\n",
       "    <tr>\n",
       "      <th>840</th>\n",
       "      <td>3</td>\n",
       "      <td>1</td>\n",
       "      <td>20.000000</td>\n",
       "      <td>0</td>\n",
       "      <td>0</td>\n",
       "      <td>7.9250</td>\n",
       "      <td>2</td>\n",
       "    </tr>\n",
       "    <tr>\n",
       "      <th>720</th>\n",
       "      <td>2</td>\n",
       "      <td>0</td>\n",
       "      <td>6.000000</td>\n",
       "      <td>0</td>\n",
       "      <td>1</td>\n",
       "      <td>33.0000</td>\n",
       "      <td>2</td>\n",
       "    </tr>\n",
       "    <tr>\n",
       "      <th>39</th>\n",
       "      <td>3</td>\n",
       "      <td>0</td>\n",
       "      <td>14.000000</td>\n",
       "      <td>1</td>\n",
       "      <td>0</td>\n",
       "      <td>11.2417</td>\n",
       "      <td>0</td>\n",
       "    </tr>\n",
       "  </tbody>\n",
       "</table>\n",
       "</div>"
      ]
     },
     "metadata": {},
     "execution_count": 9
    }
   ],
   "metadata": {}
  },
  {
   "cell_type": "code",
   "execution_count": 29,
   "source": [
    "predict_request = [3, 0, 6.0, 0, 1, 33.0, 2]\n",
    "predict_request = np.array(predict_request).reshape(1, -1)\n",
    "model.predict_proba(predict_request)[0][1]"
   ],
   "outputs": [
    {
     "output_type": "execute_result",
     "data": {
      "text/plain": [
       "0.47999999999999998"
      ]
     },
     "metadata": {},
     "execution_count": 29
    }
   ],
   "metadata": {}
  },
  {
   "cell_type": "code",
   "execution_count": 10,
   "source": [
    "y_test.head()"
   ],
   "outputs": [
    {
     "output_type": "execute_result",
     "data": {
      "text/plain": [
       "709    1\n",
       "439    0\n",
       "840    0\n",
       "720    1\n",
       "39     1\n",
       "Name: Survived, dtype: int64"
      ]
     },
     "metadata": {},
     "execution_count": 10
    }
   ],
   "metadata": {}
  },
  {
   "cell_type": "code",
   "execution_count": 19,
   "source": [
    "y_pred_prob = model.predict_proba(df_test)\n",
    "y_pred_prob"
   ],
   "outputs": [
    {
     "output_type": "execute_result",
     "data": {
      "text/plain": [
       "array([[ 0.56      ,  0.44      ],\n",
       "       [ 0.96      ,  0.04      ],\n",
       "       [ 0.91333333,  0.08666667],\n",
       "       [ 0.        ,  1.        ],\n",
       "       [ 0.64      ,  0.36      ],\n",
       "       [ 0.08      ,  0.92      ],\n",
       "       [ 0.17735498,  0.82264502],\n",
       "       [ 0.93333333,  0.06666667],\n",
       "       [ 0.24      ,  0.76      ],\n",
       "       [ 0.04      ,  0.96      ],\n",
       "       [ 0.72      ,  0.28      ],\n",
       "       [ 0.92      ,  0.08      ],\n",
       "       [ 0.96      ,  0.04      ],\n",
       "       [ 1.        ,  0.        ],\n",
       "       [ 0.82866667,  0.17133333],\n",
       "       [ 0.        ,  1.        ],\n",
       "       [ 0.88      ,  0.12      ],\n",
       "       [ 0.05142857,  0.94857143],\n",
       "       [ 0.92      ,  0.08      ],\n",
       "       [ 0.88      ,  0.12      ],\n",
       "       [ 1.        ,  0.        ],\n",
       "       [ 0.57333333,  0.42666667],\n",
       "       [ 0.76      ,  0.24      ],\n",
       "       [ 1.        ,  0.        ],\n",
       "       [ 1.        ,  0.        ],\n",
       "       [ 0.96      ,  0.04      ],\n",
       "       [ 0.76      ,  0.24      ],\n",
       "       [ 0.952     ,  0.048     ],\n",
       "       [ 0.88      ,  0.12      ],\n",
       "       [ 0.48      ,  0.52      ],\n",
       "       [ 1.        ,  0.        ],\n",
       "       [ 0.28      ,  0.72      ],\n",
       "       [ 0.28      ,  0.72      ],\n",
       "       [ 0.48      ,  0.52      ],\n",
       "       [ 0.76666667,  0.23333333],\n",
       "       [ 0.68      ,  0.32      ],\n",
       "       [ 0.48      ,  0.52      ],\n",
       "       [ 0.17735498,  0.82264502],\n",
       "       [ 0.2       ,  0.8       ],\n",
       "       [ 1.        ,  0.        ],\n",
       "       [ 1.        ,  0.        ],\n",
       "       [ 0.84      ,  0.16      ],\n",
       "       [ 1.        ,  0.        ],\n",
       "       [ 0.87357687,  0.12642313],\n",
       "       [ 0.6       ,  0.4       ],\n",
       "       [ 0.84      ,  0.16      ],\n",
       "       [ 0.58      ,  0.42      ],\n",
       "       [ 1.        ,  0.        ],\n",
       "       [ 0.76      ,  0.24      ],\n",
       "       [ 0.64      ,  0.36      ],\n",
       "       [ 0.16      ,  0.84      ],\n",
       "       [ 0.08      ,  0.92      ],\n",
       "       [ 1.        ,  0.        ],\n",
       "       [ 0.2       ,  0.8       ],\n",
       "       [ 0.96      ,  0.04      ],\n",
       "       [ 0.        ,  1.        ],\n",
       "       [ 0.82      ,  0.18      ],\n",
       "       [ 0.04      ,  0.96      ],\n",
       "       [ 0.        ,  1.        ],\n",
       "       [ 0.92      ,  0.08      ],\n",
       "       [ 0.72      ,  0.28      ],\n",
       "       [ 0.        ,  1.        ],\n",
       "       [ 0.12      ,  0.88      ],\n",
       "       [ 0.92      ,  0.08      ],\n",
       "       [ 0.87357687,  0.12642313],\n",
       "       [ 0.        ,  1.        ],\n",
       "       [ 0.88      ,  0.12      ],\n",
       "       [ 0.84      ,  0.16      ],\n",
       "       [ 0.72      ,  0.28      ],\n",
       "       [ 0.        ,  1.        ],\n",
       "       [ 0.        ,  1.        ],\n",
       "       [ 0.12      ,  0.88      ],\n",
       "       [ 0.24      ,  0.76      ],\n",
       "       [ 0.        ,  1.        ],\n",
       "       [ 1.        ,  0.        ],\n",
       "       [ 0.96      ,  0.04      ],\n",
       "       [ 0.17735498,  0.82264502],\n",
       "       [ 0.        ,  1.        ],\n",
       "       [ 0.        ,  1.        ],\n",
       "       [ 0.48      ,  0.52      ],\n",
       "       [ 1.        ,  0.        ],\n",
       "       [ 0.        ,  1.        ],\n",
       "       [ 0.        ,  1.        ],\n",
       "       [ 0.99      ,  0.01      ],\n",
       "       [ 0.44      ,  0.56      ],\n",
       "       [ 0.48      ,  0.52      ],\n",
       "       [ 0.        ,  1.        ],\n",
       "       [ 0.04      ,  0.96      ],\n",
       "       [ 0.88      ,  0.12      ],\n",
       "       [ 1.        ,  0.        ],\n",
       "       [ 0.36      ,  0.64      ],\n",
       "       [ 0.96      ,  0.04      ],\n",
       "       [ 0.96      ,  0.04      ],\n",
       "       [ 0.99      ,  0.01      ],\n",
       "       [ 1.        ,  0.        ],\n",
       "       [ 0.88      ,  0.12      ],\n",
       "       [ 0.92      ,  0.08      ],\n",
       "       [ 0.92      ,  0.08      ],\n",
       "       [ 0.        ,  1.        ],\n",
       "       [ 0.4       ,  0.6       ],\n",
       "       [ 0.88      ,  0.12      ],\n",
       "       [ 1.        ,  0.        ],\n",
       "       [ 0.04      ,  0.96      ],\n",
       "       [ 1.        ,  0.        ],\n",
       "       [ 1.        ,  0.        ],\n",
       "       [ 0.36      ,  0.64      ],\n",
       "       [ 0.        ,  1.        ],\n",
       "       [ 0.92      ,  0.08      ],\n",
       "       [ 0.92      ,  0.08      ],\n",
       "       [ 0.56      ,  0.44      ],\n",
       "       [ 0.        ,  1.        ],\n",
       "       [ 0.96      ,  0.04      ],\n",
       "       [ 0.04      ,  0.96      ],\n",
       "       [ 0.12      ,  0.88      ],\n",
       "       [ 0.80666667,  0.19333333],\n",
       "       [ 1.        ,  0.        ],\n",
       "       [ 0.44      ,  0.56      ],\n",
       "       [ 0.532     ,  0.468     ],\n",
       "       [ 0.        ,  1.        ],\n",
       "       [ 0.88      ,  0.12      ],\n",
       "       [ 0.76      ,  0.24      ],\n",
       "       [ 0.        ,  1.        ],\n",
       "       [ 0.        ,  1.        ],\n",
       "       [ 0.36      ,  0.64      ],\n",
       "       [ 0.92      ,  0.08      ],\n",
       "       [ 0.8       ,  0.2       ],\n",
       "       [ 0.        ,  1.        ],\n",
       "       [ 0.48      ,  0.52      ],\n",
       "       [ 0.64      ,  0.36      ],\n",
       "       [ 1.        ,  0.        ],\n",
       "       [ 0.01142857,  0.98857143],\n",
       "       [ 0.56      ,  0.44      ],\n",
       "       [ 1.        ,  0.        ],\n",
       "       [ 0.24      ,  0.76      ],\n",
       "       [ 0.32      ,  0.68      ],\n",
       "       [ 0.84      ,  0.16      ],\n",
       "       [ 0.        ,  1.        ],\n",
       "       [ 0.62133333,  0.37866667],\n",
       "       [ 0.96      ,  0.04      ],\n",
       "       [ 0.76      ,  0.24      ],\n",
       "       [ 1.        ,  0.        ],\n",
       "       [ 0.04      ,  0.96      ],\n",
       "       [ 0.88      ,  0.12      ],\n",
       "       [ 1.        ,  0.        ],\n",
       "       [ 0.76      ,  0.24      ],\n",
       "       [ 0.        ,  1.        ],\n",
       "       [ 1.        ,  0.        ],\n",
       "       [ 0.28      ,  0.72      ],\n",
       "       [ 0.2       ,  0.8       ],\n",
       "       [ 0.88      ,  0.12      ],\n",
       "       [ 0.93047619,  0.06952381],\n",
       "       [ 0.84      ,  0.16      ],\n",
       "       [ 0.76      ,  0.24      ],\n",
       "       [ 0.32      ,  0.68      ],\n",
       "       [ 1.        ,  0.        ],\n",
       "       [ 0.96      ,  0.04      ],\n",
       "       [ 0.50333333,  0.49666667],\n",
       "       [ 0.15449784,  0.84550216],\n",
       "       [ 0.04      ,  0.96      ],\n",
       "       [ 0.08      ,  0.92      ],\n",
       "       [ 0.88      ,  0.12      ],\n",
       "       [ 0.8       ,  0.2       ],\n",
       "       [ 0.81666667,  0.18333333],\n",
       "       [ 0.04      ,  0.96      ],\n",
       "       [ 0.90464646,  0.09535354],\n",
       "       [ 0.64      ,  0.36      ],\n",
       "       [ 1.        ,  0.        ],\n",
       "       [ 0.        ,  1.        ],\n",
       "       [ 1.        ,  0.        ],\n",
       "       [ 1.        ,  0.        ],\n",
       "       [ 0.8       ,  0.2       ],\n",
       "       [ 0.08133333,  0.91866667],\n",
       "       [ 0.12      ,  0.88      ],\n",
       "       [ 0.48      ,  0.52      ],\n",
       "       [ 0.93333333,  0.06666667],\n",
       "       [ 1.        ,  0.        ],\n",
       "       [ 0.96      ,  0.04      ],\n",
       "       [ 0.        ,  1.        ],\n",
       "       [ 0.16      ,  0.84      ]])"
      ]
     },
     "metadata": {},
     "execution_count": 19
    }
   ],
   "metadata": {}
  },
  {
   "cell_type": "code",
   "execution_count": 15,
   "source": [
    "y_pred = model.predict(df_test)\n",
    "y_pred[:10]"
   ],
   "outputs": [
    {
     "output_type": "execute_result",
     "data": {
      "text/plain": [
       "array([0, 0, 0, 1, 0, 1, 1, 0, 1, 1], dtype=int64)"
      ]
     },
     "metadata": {},
     "execution_count": 15
    }
   ],
   "metadata": {}
  }
 ],
 "metadata": {
  "kernelspec": {
   "display_name": "Python 3",
   "language": "python",
   "name": "python3"
  },
  "language_info": {
   "codemirror_mode": {
    "name": "ipython",
    "version": 3
   },
   "file_extension": ".py",
   "mimetype": "text/x-python",
   "name": "python",
   "nbconvert_exporter": "python",
   "pygments_lexer": "ipython3",
   "version": "3.6.2"
  }
 },
 "nbformat": 4,
 "nbformat_minor": 2
}